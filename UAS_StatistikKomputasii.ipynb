{
  "nbformat": 4,
  "nbformat_minor": 0,
  "metadata": {
    "colab": {
      "provenance": [],
      "authorship_tag": "ABX9TyOA++PxY/nRnkgqk/QDBVqu",
      "include_colab_link": true
    },
    "kernelspec": {
      "name": "python3",
      "display_name": "Python 3"
    },
    "language_info": {
      "name": "python"
    }
  },
  "cells": [
    {
      "cell_type": "markdown",
      "metadata": {
        "id": "view-in-github",
        "colab_type": "text"
      },
      "source": [
        "<a href=\"https://colab.research.google.com/github/FaisAkbar/UAS_StatistikaKomputasi/blob/main/UAS_StatistikKomputasii.ipynb\" target=\"_parent\"><img src=\"https://colab.research.google.com/assets/colab-badge.svg\" alt=\"Open In Colab\"/></a>"
      ]
    },
    {
      "cell_type": "markdown",
      "source": [
        "### UAS STATISTIK KOMPUTASI\n",
        "### Nama : Fawaa'el Akbar Firdaus\n",
        "### No : 13\n",
        "### NIM : 2141720215\n",
        "### Github :"
      ],
      "metadata": {
        "id": "MHdmWue27hoL"
      }
    },
    {
      "cell_type": "markdown",
      "source": [
        "##NO 1"
      ],
      "metadata": {
        "id": "n7JoJ-an7nta"
      }
    },
    {
      "cell_type": "code",
      "source": [
        "import pandas as pd\n",
        "\n",
        "# Membaca data dari file CSV\n",
        "data = pd.read_csv('Walmart.csv')\n",
        "\n",
        "# a. Menentukan kolom yang dapat digunakan untuk pemodelan regresi\n",
        "regression_columns = ['Store', 'Holiday_Flag', 'Temperature', 'Fuel_Price', 'CPI', 'Unemployment']\n",
        "regression_data = data[regression_columns]\n",
        "print(\"Kolom untuk pemodelan regresi:\")\n",
        "print(regression_data)\n",
        "print(\"a. Kolom yang dapat digunakan untuk pemodelan regresi:\")\n",
        "print(regression_columns)"
      ],
      "metadata": {
        "colab": {
          "base_uri": "https://localhost:8080/"
        },
        "id": "wn2il_vK7rx_",
        "outputId": "2776adbc-21ae-4fdb-9970-bf62fded2bae"
      },
      "execution_count": 64,
      "outputs": [
        {
          "output_type": "stream",
          "name": "stdout",
          "text": [
            "Kolom untuk pemodelan regresi:\n",
            "      Store  Holiday_Flag  Temperature  Fuel_Price         CPI  Unemployment\n",
            "0         1             0        42.31       2.572  211.096358         8.106\n",
            "1         1             1        38.51       2.548  211.242170         8.106\n",
            "2         1             0        39.93       2.514  211.289143         8.106\n",
            "3         1             0        46.63       2.561  211.319643         8.106\n",
            "4         1             0        46.50       2.625  211.350143         8.106\n",
            "...     ...           ...          ...         ...         ...           ...\n",
            "6430     45             0        64.88       3.997  192.013558         8.684\n",
            "6431     45             0        64.89       3.985  192.170412         8.667\n",
            "6432     45             0        54.47       4.000  192.327265         8.667\n",
            "6433     45             0        56.47       3.969  192.330854         8.667\n",
            "6434     45             0        58.85       3.882  192.308899         8.667\n",
            "\n",
            "[6435 rows x 6 columns]\n",
            "a. Kolom yang dapat digunakan untuk pemodelan regresi:\n",
            "['Store', 'Holiday_Flag', 'Temperature', 'Fuel_Price', 'CPI', 'Unemployment']\n"
          ]
        }
      ]
    },
    {
      "cell_type": "code",
      "source": [
        "# b. Statistik deskriptif untuk kolom Store 4\n",
        "store_4_data = data[data['Store'] == 4]\n",
        "statistics_store_4 = store_4_data[regression_columns].describe()\n",
        "print(\"b. Statistik deskriptif untuk Store 4:\")\n",
        "print(statistics_store_4)"
      ],
      "metadata": {
        "colab": {
          "base_uri": "https://localhost:8080/"
        },
        "id": "vhAPdCWo7lTw",
        "outputId": "e735184b-0dc6-48fe-fdda-3360887f2a23"
      },
      "execution_count": 65,
      "outputs": [
        {
          "output_type": "stream",
          "name": "stdout",
          "text": [
            "b. Statistik deskriptif untuk Store 4:\n",
            "       Store  Holiday_Flag  Temperature  Fuel_Price         CPI  Unemployment\n",
            "count  143.0    143.000000   143.000000  143.000000  143.000000    143.000000\n",
            "mean     4.0      0.069930    62.253357    3.216972  128.679669      5.964692\n",
            "std      0.0      0.255926    16.180023    0.416967    1.858300      1.421267\n",
            "min      4.0      0.000000    28.840000    2.540000  126.064000      3.879000\n",
            "25%      4.0      0.000000    48.470000    2.764500  126.590094      4.607000\n",
            "50%      4.0      0.000000    64.220000    3.290000  129.075677      5.946000\n",
            "75%      4.0      0.000000    77.440000    3.586500  130.502414      7.127000\n",
            "max      4.0      1.000000    86.090000    3.881000  131.193097      8.623000\n"
          ]
        }
      ]
    },
    {
      "cell_type": "code",
      "source": [
        "# c. Quartile dan IQR untuk kolom Fuel_Price, CPI, dan Unemployment pada Store 4\n",
        "q1 = store_4_data[['Fuel_Price', 'CPI', 'Unemployment']].quantile(0.25)\n",
        "q2 = store_4_data[['Fuel_Price', 'CPI', 'Unemployment']].quantile(0.5)\n",
        "q3 = store_4_data[['Fuel_Price', 'CPI', 'Unemployment']].quantile(0.75)\n",
        "iqr = q3 - q1\n",
        "print(\"c. Quartile dan IQR untuk Store 4:\")\n",
        "print(\"Q1:\")\n",
        "print(q1)\n",
        "print(\"Q2 (Median):\")\n",
        "print(q2)\n",
        "print(\"Q3:\")\n",
        "print(q3)\n",
        "print(\"IQR:\")\n",
        "print(iqr)"
      ],
      "metadata": {
        "colab": {
          "base_uri": "https://localhost:8080/"
        },
        "id": "G8gwETMtHeXl",
        "outputId": "f8f571a4-dc7d-465a-fab6-d377918b63d8"
      },
      "execution_count": 66,
      "outputs": [
        {
          "output_type": "stream",
          "name": "stdout",
          "text": [
            "c. Quartile dan IQR untuk Store 4:\n",
            "Q1:\n",
            "Fuel_Price        2.764500\n",
            "CPI             126.590094\n",
            "Unemployment      4.607000\n",
            "Name: 0.25, dtype: float64\n",
            "Q2 (Median):\n",
            "Fuel_Price        3.290000\n",
            "CPI             129.075677\n",
            "Unemployment      5.946000\n",
            "Name: 0.5, dtype: float64\n",
            "Q3:\n",
            "Fuel_Price        3.586500\n",
            "CPI             130.502414\n",
            "Unemployment      7.127000\n",
            "Name: 0.75, dtype: float64\n",
            "IQR:\n",
            "Fuel_Price      0.822000\n",
            "CPI             3.912319\n",
            "Unemployment    2.520000\n",
            "dtype: float64\n"
          ]
        }
      ]
    },
    {
      "cell_type": "code",
      "source": [
        "# d. Variansi untuk Holiday_Flag 1 (holiday week) dan 0 (non-holiday week)\n",
        "variance_holiday = data[data['Holiday_Flag'] == 1]['Weekly_Sales'].var()\n",
        "variance_non_holiday = data[data['Holiday_Flag'] == 0]['Weekly_Sales'].var()\n",
        "print(\"d. Variansi untuk Holiday week (1):\", variance_holiday)\n",
        "print(\"   Variansi untuk Non-holiday week (0):\", variance_non_holiday)"
      ],
      "metadata": {
        "colab": {
          "base_uri": "https://localhost:8080/"
        },
        "id": "2e_rZfZbHhuW",
        "outputId": "01d70528-15d6-4777-f162-f7254711cacd"
      },
      "execution_count": 67,
      "outputs": [
        {
          "output_type": "stream",
          "name": "stdout",
          "text": [
            "d. Variansi untuk Holiday week (1): 393988373714.19293\n",
            "   Variansi untuk Non-holiday week (0): 312433415424.3812\n"
          ]
        }
      ]
    },
    {
      "cell_type": "code",
      "source": [
        "# e. Menentukan apakah rata-rata weekly sales di setiap toko sama\n",
        "average_sales_per_store = data.groupby('Store')['Weekly_Sales'].mean()\n",
        "is_average_same = average_sales_per_store.nunique() == 1\n",
        "print(\"e. Apakah rata-rata weekly sales di setiap toko sama?\", is_average_same)"
      ],
      "metadata": {
        "colab": {
          "base_uri": "https://localhost:8080/"
        },
        "id": "0diAgUWXISLS",
        "outputId": "62826a9a-babd-4fd8-d725-65359c485c81"
      },
      "execution_count": 68,
      "outputs": [
        {
          "output_type": "stream",
          "name": "stdout",
          "text": [
            "e. Apakah rata-rata weekly sales di setiap toko sama? False\n"
          ]
        }
      ]
    },
    {
      "cell_type": "code",
      "source": [
        "# f. CPI mana yang lebih tinggi di setiap toko\n",
        "max_cpi_by_store = data.groupby(\"Store\")[\"CPI\"].max()\n",
        "print(max_cpi_by_store)\n",
        "highest_cpi_store = max_cpi_by_store.idxmax()\n",
        "print(\"f. Toko dengan CPI tertinggi:\", highest_cpi_store)"
      ],
      "metadata": {
        "colab": {
          "base_uri": "https://localhost:8080/"
        },
        "id": "Q2OX0kAPKwyZ",
        "outputId": "90946627-af73-4028-f8e6-b5f301fb07b6"
      },
      "execution_count": 69,
      "outputs": [
        {
          "output_type": "stream",
          "name": "stdout",
          "text": [
            "Store\n",
            "1     223.444251\n",
            "2     223.078337\n",
            "3     226.987364\n",
            "4     131.193097\n",
            "5     224.037814\n",
            "6     225.068625\n",
            "7     199.219532\n",
            "8     227.036936\n",
            "9     227.232807\n",
            "10    131.193097\n",
            "11    226.987364\n",
            "12    131.193097\n",
            "13    131.193097\n",
            "14    192.330854\n",
            "15    138.911700\n",
            "16    199.219532\n",
            "17    131.193097\n",
            "18    138.911700\n",
            "19    138.911700\n",
            "20    216.151590\n",
            "21    223.078337\n",
            "22    142.937617\n",
            "23    138.911700\n",
            "24    138.911700\n",
            "25    216.151590\n",
            "26    138.911700\n",
            "27    142.937617\n",
            "28    131.193097\n",
            "29    138.911700\n",
            "30    223.078337\n",
            "31    223.078337\n",
            "32    199.219532\n",
            "33    131.193097\n",
            "34    131.193097\n",
            "35    142.937617\n",
            "36    222.113657\n",
            "37    222.113657\n",
            "38    131.193097\n",
            "39    222.113657\n",
            "40    138.911700\n",
            "41    199.219532\n",
            "42    131.193097\n",
            "43    214.741539\n",
            "44    131.193097\n",
            "45    192.330854\n",
            "Name: CPI, dtype: float64\n",
            "f. Toko dengan CPI tertinggi: 9\n"
          ]
        }
      ]
    },
    {
      "cell_type": "code",
      "source": [
        "# g. Perbandingan CPI antara holiday week dan non-holiday week\n",
        "average_cpi_holiday = data[data['Holiday_Flag'] == 1]['CPI'].mean()\n",
        "average_cpi_non_holiday = data[data['Holiday_Flag'] == 0]['CPI'].mean()\n",
        "cpi_comparison = \"Holiday week\" if average_cpi_holiday > average_cpi_non_holiday else \"Non-holiday week\"\n",
        "print(\"g. Perbandingan CPI antara holiday week dan non-holiday week:\", cpi_comparison)"
      ],
      "metadata": {
        "colab": {
          "base_uri": "https://localhost:8080/"
        },
        "id": "Hj2oNz6sKw5K",
        "outputId": "197ddc6f-7c9f-4481-99d7-8904ad574cce"
      },
      "execution_count": 70,
      "outputs": [
        {
          "output_type": "stream",
          "name": "stdout",
          "text": [
            "g. Perbandingan CPI antara holiday week dan non-holiday week: Non-holiday week\n"
          ]
        }
      ]
    },
    {
      "cell_type": "markdown",
      "source": [
        "## NO 2"
      ],
      "metadata": {
        "id": "g0KZTST4Leek"
      }
    },
    {
      "cell_type": "code",
      "source": [
        "import pandas as pd\n",
        "from scipy.stats import kstest, norm\n",
        "\n",
        "# Membaca data dari file CSV\n",
        "data = pd.read_csv('Walmart.csv')\n",
        "\n",
        "# a. Uji normalitas menggunakan uji KS\n",
        "alpha = 0.05\n",
        "\n",
        "# Uji normalitas 'Weekly Sales'\n",
        "weekly_sales = data['Weekly_Sales']\n",
        "weekly_sales_mean = weekly_sales.mean()\n",
        "weekly_sales_std = weekly_sales.std()\n",
        "weekly_sales_norm = (weekly_sales - weekly_sales_mean) / weekly_sales_std  # Normalisasi data\n",
        "ks_statistic_weekly_sales, p_value_weekly_sales = kstest(weekly_sales_norm, 'norm')\n",
        "is_weekly_sales_normal = p_value_weekly_sales > alpha\n",
        "\n",
        "# Uji normalitas 'Fuel Price'\n",
        "fuel_price = data['Fuel_Price']\n",
        "fuel_price_mean = fuel_price.mean()\n",
        "fuel_price_std = fuel_price.std()\n",
        "fuel_price_norm = (fuel_price - fuel_price_mean) / fuel_price_std  # Normalisasi data\n",
        "ks_statistic_fuel_price, p_value_fuel_price = kstest(fuel_price_norm, 'norm')\n",
        "is_fuel_price_normal = p_value_fuel_price > alpha\n",
        "\n",
        "# Menampilkan hasil\n",
        "print(\"a. Hasil uji normalitas menggunakan uji KS:\")\n",
        "print(\"   - 'Weekly Sales':\")\n",
        "print(\"     - KS Statistik:\", ks_statistic_weekly_sales)\n",
        "print(\"     - p-value:\", p_value_weekly_sales)\n",
        "print(\"     - Distribusi Normal:\", is_weekly_sales_normal)\n",
        "print(\"   - 'Fuel Price':\")\n",
        "print(\"     - KS Statistik:\", ks_statistic_fuel_price)\n",
        "print(\"     - p-value:\", p_value_fuel_price)\n",
        "print(\"     - Distribusi Normal:\", is_fuel_price_normal)\n",
        "\n",
        "# b. Variabel independen dan dependennya\n",
        "print(\"b. Variabel independen adalah 'Fuel Price', sedangkan variabel dependen adalah 'Weekly Sales'\")"
      ],
      "metadata": {
        "colab": {
          "base_uri": "https://localhost:8080/"
        },
        "id": "Wmrcyy71NJ8w",
        "outputId": "6f2eb98c-6757-49b9-b419-66f5e3b0cd07"
      },
      "execution_count": 72,
      "outputs": [
        {
          "output_type": "stream",
          "name": "stdout",
          "text": [
            "a. Hasil uji normalitas menggunakan uji KS:\n",
            "   - 'Weekly Sales':\n",
            "     - KS Statistik: 0.08234118483605396\n",
            "     - p-value: 2.1126298348509479e-38\n",
            "     - Distribusi Normal: False\n",
            "   - 'Fuel Price':\n",
            "     - KS Statistik: 0.09675705708714111\n",
            "     - p-value: 6.887465511738516e-53\n",
            "     - Distribusi Normal: False\n",
            "b. Variabel independen adalah 'Fuel Price', sedangkan variabel dependen adalah 'Weekly Sales'\n"
          ]
        }
      ]
    },
    {
      "cell_type": "markdown",
      "source": [
        "## NO 3"
      ],
      "metadata": {
        "id": "Zb_fVnb_OBMr"
      }
    },
    {
      "cell_type": "code",
      "source": [
        "import pandas as pd\n",
        "from scipy.stats import pearsonr\n",
        "\n",
        "# Membaca data dari file CSV\n",
        "data = pd.read_csv('Walmart.csv')\n",
        "\n",
        "# Menentukan variabel independen dan dependen\n",
        "variabel_independen = ['Temperature', 'Fuel_Price', 'CPI', 'Unemployment']\n",
        "variabel_dependen = 'Weekly_Sales'\n",
        "\n",
        "# a. Uji korelasi antara variabel independen dan dependen\n",
        "nilai_korelasi = {}\n",
        "for variabel in variabel_independen:\n",
        "    korelasi, _ = pearsonr(data[variabel], data[variabel_dependen])\n",
        "    nilai_korelasi[variabel] = korelasi\n",
        "\n",
        "# Menampilkan nilai korelasi\n",
        "print(\"a. Nilai korelasi antara variabel independen dan dependen:\")\n",
        "for variabel, korelasi in nilai_korelasi.items():\n",
        "    print(f\"   - {variabel} - {variabel_dependen}: {korelasi}\")\n",
        "\n",
        "# b. Pasangan variabel independen dan dependen yang memiliki korelasi negatif\n",
        "pasangan_korelasi_negatif = [(variabel, korelasi) for variabel, korelasi in nilai_korelasi.items() if korelasi < 0]\n",
        "\n",
        "# Menampilkan pasangan variabel independen dan dependen dengan korelasi negatif\n",
        "if pasangan_korelasi_negatif:\n",
        "    print(\"b. Pasangan variabel independen dan dependen dengan korelasi negatif:\")\n",
        "    for pasangan in pasangan_korelasi_negatif:\n",
        "        print(f\"   - {pasangan[0]} - {variabel_dependen}\")\n",
        "else:\n",
        "    print(\"b. Tidak ada pasangan variabel independen dan dependen dengan korelasi negatif.\")"
      ],
      "metadata": {
        "colab": {
          "base_uri": "https://localhost:8080/"
        },
        "id": "FUdvQT-2ODHs",
        "outputId": "3a2f255c-0b27-4530-84a4-7841e42c58d6"
      },
      "execution_count": 73,
      "outputs": [
        {
          "output_type": "stream",
          "name": "stdout",
          "text": [
            "a. Nilai korelasi antara variabel independen dan dependen:\n",
            "   - Temperature - Weekly_Sales: -0.06381001317946956\n",
            "   - Fuel_Price - Weekly_Sales: 0.009463786314475135\n",
            "   - CPI - Weekly_Sales: -0.07263416204017623\n",
            "   - Unemployment - Weekly_Sales: -0.10617608965795423\n",
            "b. Pasangan variabel independen dan dependen dengan korelasi negatif:\n",
            "   - Temperature - Weekly_Sales\n",
            "   - CPI - Weekly_Sales\n",
            "   - Unemployment - Weekly_Sales\n"
          ]
        }
      ]
    },
    {
      "cell_type": "markdown",
      "source": [
        "## NO 4"
      ],
      "metadata": {
        "id": "2Q0eRK98QUU6"
      }
    },
    {
      "cell_type": "code",
      "source": [
        "import pandas as pd\n",
        "from sklearn.linear_model import LinearRegression\n",
        "\n",
        "# Membaca data dari file CSV\n",
        "data = pd.read_csv('Walmart.csv')\n",
        "\n",
        "# Menentukan variabel independen dan dependen\n",
        "variabel_independen = ['Fuel_Price']\n",
        "variabel_dependen = 'Weekly_Sales'\n",
        "\n",
        "# Memisahkan variabel independen dan dependen\n",
        "X = data[variabel_independen]\n",
        "y = data[variabel_dependen]\n",
        "\n",
        "# Membuat model regresi\n",
        "model = LinearRegression()\n",
        "model.fit(X, y)\n",
        "\n",
        "# Mendapatkan koefisien regresi\n",
        "a = model.intercept_\n",
        "b = model.coef_[0]\n",
        "\n",
        "# Menyusun model dalam bentuk y=a+bx\n",
        "model_regresi = f\"{variabel_dependen} = {a:.2f} + {b:.2f} * {variabel_independen}\"\n",
        "\n",
        "# Menampilkan model regresi\n",
        "print(\"Model regresi:\")\n",
        "print(model_regresi)"
      ],
      "metadata": {
        "colab": {
          "base_uri": "https://localhost:8080/"
        },
        "id": "KOB5gUaaQY4Z",
        "outputId": "1cf6a9dd-74b5-47c7-a1a1-ba14642d66c8"
      },
      "execution_count": 75,
      "outputs": [
        {
          "output_type": "stream",
          "name": "stdout",
          "text": [
            "Model regresi:\n",
            "Weekly_Sales = 1007884.92 + 11635.76 * ['Fuel_Price']\n"
          ]
        }
      ]
    }
  ]
}